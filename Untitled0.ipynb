{
  "cells": [
    {
      "cell_type": "markdown",
      "metadata": {
        "id": "view-in-github",
        "colab_type": "text"
      },
      "source": [
        "<a href=\"https://colab.research.google.com/github/Katsushi-Nakanishi/quant-macro/blob/main/Untitled0.ipynb\" target=\"_parent\"><img src=\"https://colab.research.google.com/assets/colab-badge.svg\" alt=\"Open In Colab\"/></a>"
      ]
    },
    {
      "cell_type": "code",
      "execution_count": 2,
      "metadata": {
        "colab": {
          "base_uri": "https://localhost:8080/"
        },
        "id": "S4mi4PfleNp6",
        "outputId": "084cf557-8a25-4965-c297-9ed5d0882e9a"
      },
      "outputs": [
        {
          "output_type": "stream",
          "name": "stdout",
          "text": [
            "[8, 41, 49, 65, 83, 38, 98, 26, 74, 4]\n",
            "HELLO\n"
          ]
        }
      ],
      "source": [
        "# prompt: making 10 numbers\n",
        "\n",
        "import random\n",
        "\n",
        "def make_ten_numbers():\n",
        "  \"\"\"Generates a list of 10 random numbers.\"\"\"\n",
        "  numbers = [random.randint(1, 100) for _ in range(10)]  # Generates numbers between 1 and 100 (inclusive)\n",
        "  return numbers\n",
        "\n",
        "# Example usage\n",
        "my_numbers = make_ten_numbers()\n",
        "print(my_numbers)\n",
        "\n",
        "print(\"HELLO\")\n"
      ]
    }
  ],
  "metadata": {
    "colab": {
      "provenance": [],
      "include_colab_link": true
    },
    "kernelspec": {
      "display_name": "Python 3",
      "name": "python3"
    },
    "language_info": {
      "name": "python"
    }
  },
  "nbformat": 4,
  "nbformat_minor": 0
}