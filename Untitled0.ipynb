{
  "nbformat": 4,
  "nbformat_minor": 0,
  "metadata": {
    "colab": {
      "provenance": [],
      "authorship_tag": "ABX9TyN6Z9ymno3sXiY2keBV4H5d",
      "include_colab_link": true
    },
    "kernelspec": {
      "name": "python3",
      "display_name": "Python 3"
    },
    "language_info": {
      "name": "python"
    }
  },
  "cells": [
    {
      "cell_type": "markdown",
      "metadata": {
        "id": "view-in-github",
        "colab_type": "text"
      },
      "source": [
        "<a href=\"https://colab.research.google.com/github/Katsushi-Nakanishi/quant-macro/blob/main/Untitled0.ipynb\" target=\"_parent\"><img src=\"https://colab.research.google.com/assets/colab-badge.svg\" alt=\"Open In Colab\"/></a>"
      ]
    },
    {
      "cell_type": "code",
      "source": [
        "# prompt: making 10 numbers\n",
        "\n",
        "import random\n",
        "\n",
        "def make_ten_numbers():\n",
        "  \"\"\"Generates a list of 10 random numbers.\"\"\"\n",
        "  numbers = [random.randint(1, 100) for _ in range(10)]  # Generates numbers between 1 and 100 (inclusive)\n",
        "  return numbers\n",
        "\n",
        "# Example usage\n",
        "my_numbers = make_ten_numbers()\n",
        "my_numbers\n"
      ],
      "metadata": {
        "colab": {
          "base_uri": "https://localhost:8080/"
        },
        "id": "S4mi4PfleNp6",
        "outputId": "06d83581-3e24-468b-c154-818d34258d37"
      },
      "execution_count": 6,
      "outputs": [
        {
          "output_type": "execute_result",
          "data": {
            "text/plain": [
              "[94, 55, 47, 14, 38, 40, 21, 73, 29, 56]"
            ]
          },
          "metadata": {},
          "execution_count": 6
        }
      ]
    }
  ]
}