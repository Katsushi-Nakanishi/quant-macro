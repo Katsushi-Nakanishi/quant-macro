{
  "nbformat": 4,
  "nbformat_minor": 0,
  "metadata": {
    "colab": {
      "provenance": [],
      "include_colab_link": true
    },
    "kernelspec": {
      "name": "python3",
      "display_name": "Python 3"
    },
    "language_info": {
      "name": "python"
    }
  },
  "cells": [
    {
      "cell_type": "markdown",
      "metadata": {
        "id": "view-in-github",
        "colab_type": "text"
      },
      "source": [
        "<a href=\"https://colab.research.google.com/github/Katsushi-Nakanishi/quant-macro/blob/main/Midterm_2.ipynb\" target=\"_parent\"><img src=\"https://colab.research.google.com/assets/colab-badge.svg\" alt=\"Open In Colab\"/></a>"
      ]
    },
    {
      "cell_type": "markdown",
      "source": [
        "**・Lを総労働時間とした場合**"
      ],
      "metadata": {
        "id": "FKRCUxCh-xoR"
      }
    },
    {
      "cell_type": "code",
      "source": [
        "from google.colab import drive\n",
        "drive.mount('/content/drive')\n",
        "\n",
        "import pandas as pd\n",
        "import numpy as np\n",
        "\n",
        "pwt1001 = pd.read_stata('/content/drive/MyDrive/Colab Notebooks/Quant_Macro/pwt1001.dta')\n",
        "# 出典：（https://www.rug.nl/ggdc/productivity/pwt/）\n",
        "\n",
        "#対象の国をリスト化\n",
        "target_countries = ['Australia', 'Austria', 'Belgium', 'Canada', 'Denmark', 'Finland', 'France', 'Germany', 'Greece', 'Iceland', 'Italy', 'Japan', 'Netherlands', 'New Zealand', 'Norway', 'Portugal', 'Spain', 'Sweden', 'Switzerland', 'United Kingdom', 'United States']\n",
        "\n",
        "#リストに該当する国の、1990~2019期間のデータを抽出\n",
        "data = pwt1001[\n",
        "    pwt1001['country'].isin(target_countries) &\n",
        "    pwt1001['year'].between(1990, 2019)\n",
        "]\n",
        "\n",
        "#必要な変数だけをリスト化し、データを絞る\n",
        "relevant_cols = ['countrycode', 'country', 'year', 'rgdpna', 'rkna', 'pop', 'emp', 'avh', 'labsh', 'hc']\n",
        "data = data[relevant_cols].dropna()\n",
        "\n",
        "\n",
        "data['alpha'] = 1 - data['labsh']  # 資本所得分配率（α）= 1 - 労働所得分配率\n",
        "data['L'] = data['emp'] * data['avh']   # L（総労働時間） = emp * avh * hc\n",
        "data['y'] = data['rgdpna'] / data['L']  # y = Y/L\n",
        "data['k'] = data['rkna'] / data['L']  # k = K/L\n",
        "\n",
        "\n",
        "def calg(country_data):  #国別のデータに対して、成長会計をおこなう関数を定義\n",
        "\n",
        "    start_year_actual = country_data['year'].min()  # 初年度\n",
        "    end_year_actual = country_data['year'].max()  # 終年度\n",
        "\n",
        "    start_data = country_data[country_data['year'] == start_year_actual].iloc[0]\n",
        "    end_data = country_data[country_data['year'] == end_year_actual].iloc[0]\n",
        "\n",
        "    years = end_data['year'] - start_data['year']\n",
        "\n",
        "    g_y = ((end_data['y'] / start_data['y']) ** (1/years) - 1) * 100  # Growth Rate(労働生産性の伸び)\n",
        "\n",
        "    g_k = ((end_data['k'] / start_data['k']) ** (1/years) - 1) * 100  # kの成長率を計算\n",
        "\n",
        "    alpha_avg = (start_data['alpha'] + end_data['alpha']) / 2.0  # alphaの平均値を計算\n",
        "\n",
        "    capital_deepening_contrib = alpha_avg * g_k  # Captal Deepning\n",
        "    tfp_growth_contrib = g_y - capital_deepening_contrib  # TFP Growth\n",
        "\n",
        "    tfp_share = tfp_growth_contrib / g_y\n",
        "    cap_share = capital_deepening_contrib / g_y\n",
        "\n",
        "    # 計算結果の辞書を返す\n",
        "    return {\n",
        "        'Country': start_data['country'],\n",
        "        'Growth Rate': round(g_y, 2),\n",
        "        'TFP Growth': round(tfp_growth_contrib, 2),\n",
        "        'Capital Deepening': round(capital_deepening_contrib, 2),\n",
        "        'TFP Share': round(tfp_share, 2),\n",
        "        'Capital Share': round(cap_share, 2)\n",
        "    }\n",
        "\n",
        "# 国ごとにcalg関数を適用し、結果を辞書のリストとして作成\n",
        "results_list = data.groupby('countrycode').apply(calg).dropna().tolist()\n",
        "results_df = pd.DataFrame(results_list)\n",
        "\n",
        "# 平均データの追加\n",
        "avg_row_data = {\n",
        "    'Country': 'Average',\n",
        "    'Growth Rate': round(results_df['Growth Rate'].mean(), 2),\n",
        "    'TFP Growth': round(results_df['TFP Growth'].mean(), 2),\n",
        "    'Capital Deepening': round(results_df['Capital Deepening'].mean(), 2),\n",
        "    'TFP Share': round(results_df['TFP Share'].mean(), 2),\n",
        "    'Capital Share': round(results_df['Capital Share'].mean(), 2)\n",
        "}\n",
        "results_df = pd.concat([results_df, pd.DataFrame([avg_row_data])], ignore_index=True)\n",
        "\n",
        "print(\"\\nGrowth Accounting in OECD Countries: 1990-2019 period\")\n",
        "print(\"=\"*85)\n",
        "print(results_df.to_string(index=False))"
      ],
      "metadata": {
        "id": "ji7-Rje6v2Zh",
        "colab": {
          "base_uri": "https://localhost:8080/"
        },
        "outputId": "0cbe1d31-43ea-4dec-a2ac-edfa0dcf0ee1"
      },
      "execution_count": 7,
      "outputs": [
        {
          "output_type": "stream",
          "name": "stdout",
          "text": [
            "Drive already mounted at /content/drive; to attempt to forcibly remount, call drive.mount(\"/content/drive\", force_remount=True).\n",
            "\n",
            "Growth Accounting in OECD Countries: 1990-2019 period\n",
            "=====================================================================================\n",
            "       Country  Growth Rate  TFP Growth  Capital Deepening  TFP Share  Capital Share\n",
            "     Australia         1.55        0.67               0.87       0.44           0.56\n",
            "       Austria         1.48        0.54               0.93       0.37           0.63\n",
            "       Belgium         1.10        0.22               0.89       0.20           0.80\n",
            "        Canada         1.19        0.50               0.69       0.42           0.58\n",
            "   Switzerland         1.05        0.31               0.75       0.29           0.71\n",
            "       Germany         1.51        0.77               0.74       0.51           0.49\n",
            "       Denmark         1.51        0.65               0.86       0.43           0.57\n",
            "         Spain         0.95        0.12               0.83       0.12           0.88\n",
            "       Finland         1.73        0.98               0.75       0.57           0.43\n",
            "        France         1.22        0.46               0.76       0.38           0.62\n",
            "United Kingdom         1.42        0.60               0.82       0.42           0.58\n",
            "        Greece         0.85        0.00               0.85       0.00           1.00\n",
            "       Iceland         2.23        1.26               0.96       0.57           0.43\n",
            "         Italy         0.58       -0.22               0.80      -0.38           1.38\n",
            "         Japan         1.35        0.25               1.10       0.19           0.81\n",
            "   Netherlands         0.99        0.42               0.57       0.42           0.58\n",
            "        Norway         1.45        0.50               0.96       0.34           0.66\n",
            "   New Zealand         1.27        0.36               0.90       0.29           0.71\n",
            "      Portugal         1.29        0.18               1.10       0.14           0.86\n",
            "        Sweden         1.74        0.97               0.77       0.56           0.44\n",
            " United States         1.66        0.82               0.84       0.50           0.50\n",
            "       Average         1.34        0.49               0.84       0.32           0.68\n"
          ]
        },
        {
          "output_type": "stream",
          "name": "stderr",
          "text": [
            "<ipython-input-7-4b8f164fa3a9>:63: DeprecationWarning: DataFrameGroupBy.apply operated on the grouping columns. This behavior is deprecated, and in a future version of pandas the grouping columns will be excluded from the operation. Either pass `include_groups=False` to exclude the groupings or explicitly select the grouping columns after groupby to silence this warning.\n",
            "  results_list = data.groupby('countrycode').apply(calg).dropna().tolist()\n"
          ]
        }
      ]
    },
    {
      "cell_type": "code",
      "source": [
        "data['alpha']"
      ],
      "metadata": {
        "id": "iUBjJKO-N56a",
        "outputId": "1bf8c125-e8a8-4309-9308-3299537f9d2a",
        "colab": {
          "base_uri": "https://localhost:8080/",
          "height": 458
        }
      },
      "execution_count": 6,
      "outputs": [
        {
          "output_type": "execute_result",
          "data": {
            "text/plain": [
              "600      0.373991\n",
              "601      0.382689\n",
              "602      0.392724\n",
              "603      0.398660\n",
              "604      0.395925\n",
              "           ...   \n",
              "12175    0.404354\n",
              "12176    0.406227\n",
              "12177    0.403849\n",
              "12178    0.405674\n",
              "12179    0.402909\n",
              "Name: alpha, Length: 630, dtype: float32"
            ],
            "text/html": [
              "<div>\n",
              "<style scoped>\n",
              "    .dataframe tbody tr th:only-of-type {\n",
              "        vertical-align: middle;\n",
              "    }\n",
              "\n",
              "    .dataframe tbody tr th {\n",
              "        vertical-align: top;\n",
              "    }\n",
              "\n",
              "    .dataframe thead th {\n",
              "        text-align: right;\n",
              "    }\n",
              "</style>\n",
              "<table border=\"1\" class=\"dataframe\">\n",
              "  <thead>\n",
              "    <tr style=\"text-align: right;\">\n",
              "      <th></th>\n",
              "      <th>alpha</th>\n",
              "    </tr>\n",
              "  </thead>\n",
              "  <tbody>\n",
              "    <tr>\n",
              "      <th>600</th>\n",
              "      <td>0.373991</td>\n",
              "    </tr>\n",
              "    <tr>\n",
              "      <th>601</th>\n",
              "      <td>0.382689</td>\n",
              "    </tr>\n",
              "    <tr>\n",
              "      <th>602</th>\n",
              "      <td>0.392724</td>\n",
              "    </tr>\n",
              "    <tr>\n",
              "      <th>603</th>\n",
              "      <td>0.398660</td>\n",
              "    </tr>\n",
              "    <tr>\n",
              "      <th>604</th>\n",
              "      <td>0.395925</td>\n",
              "    </tr>\n",
              "    <tr>\n",
              "      <th>...</th>\n",
              "      <td>...</td>\n",
              "    </tr>\n",
              "    <tr>\n",
              "      <th>12175</th>\n",
              "      <td>0.404354</td>\n",
              "    </tr>\n",
              "    <tr>\n",
              "      <th>12176</th>\n",
              "      <td>0.406227</td>\n",
              "    </tr>\n",
              "    <tr>\n",
              "      <th>12177</th>\n",
              "      <td>0.403849</td>\n",
              "    </tr>\n",
              "    <tr>\n",
              "      <th>12178</th>\n",
              "      <td>0.405674</td>\n",
              "    </tr>\n",
              "    <tr>\n",
              "      <th>12179</th>\n",
              "      <td>0.402909</td>\n",
              "    </tr>\n",
              "  </tbody>\n",
              "</table>\n",
              "<p>630 rows × 1 columns</p>\n",
              "</div><br><label><b>dtype:</b> float32</label>"
            ]
          },
          "metadata": {},
          "execution_count": 6
        }
      ]
    }
  ]
}