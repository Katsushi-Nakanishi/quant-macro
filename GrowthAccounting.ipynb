{
  "nbformat": 4,
  "nbformat_minor": 0,
  "metadata": {
    "colab": {
      "provenance": [],
      "include_colab_link": true
    },
    "kernelspec": {
      "name": "python3",
      "display_name": "Python 3"
    },
    "language_info": {
      "name": "python"
    }
  },
  "cells": [
    {
      "cell_type": "markdown",
      "metadata": {
        "id": "view-in-github",
        "colab_type": "text"
      },
      "source": [
        "<a href=\"https://colab.research.google.com/github/Katsushi-Nakanishi/quant-macro/blob/main/GrowthAccounting.ipynb\" target=\"_parent\"><img src=\"https://colab.research.google.com/assets/colab-badge.svg\" alt=\"Open In Colab\"/></a>"
      ]
    },
    {
      "cell_type": "code",
      "source": [
        "import pandas as pd\n",
        "import numpy as np\n",
        "\n",
        "pwt90 = pd.read_stata('https://www.rug.nl/ggdc/docs/pwt90.dta')"
      ],
      "metadata": {
        "id": "2CSIdc-inP3N"
      },
      "execution_count": 30,
      "outputs": []
    },
    {
      "cell_type": "code",
      "source": [
        "#対象の国をリスト化\n",
        "target_countries = ['Australia', 'Austria']\n",
        "\n",
        "#リストに該当する国の、1960~2000期間のデータを抽出\n",
        "data = pwt90[\n",
        "    pwt90['country'].isin(target_countries) &\n",
        "    pwt90['year'].between(1960, 2000)\n",
        "]\n",
        "\n",
        "#必要な変数だけをリスト化し、データを絞る\n",
        "relevant_cols = ['countrycode', 'country', 'year', 'rgdpna', 'rkna', 'emp', 'avh', 'labsh',]\n",
        "data = data[relevant_cols].dropna()"
      ],
      "metadata": {
        "id": "ji7-Rje6v2Zh"
      },
      "execution_count": 31,
      "outputs": []
    },
    {
      "cell_type": "code",
      "source": [
        "data['alpha'] = 1 - data['labsh']  # 資本所得分配率（α）= 1 - 労働所得分配率\n",
        "data['L'] = data['emp'] * data['avh']  # L（総労働時間） = emp * avh\n",
        "data['y'] = data['rgdpna'] / data['L']  # y = Y/L\n",
        "data['k'] = data['rkna'] / data['L']  # k = K/L"
      ],
      "metadata": {
        "id": "ocT5PgJw-vpD"
      },
      "execution_count": 32,
      "outputs": []
    },
    {
      "cell_type": "code",
      "source": [
        "data = data.sort_values('year')  # 年順にソート\n",
        "data = data.groupby('countrycode').apply(lambda x:x.assign(\n",
        "    y_shifted = 100 * x['y'] / x['y'].iloc[0],\n",
        "    k_shifted = 100 * x['k'] / x['k'].iloc[0]\n",
        ")).reset_index(drop=True).dropna()  # 国別に、最初の年で基準化したy,k列をデータに追加"
      ],
      "metadata": {
        "id": "XSgWRq0wVBWS",
        "outputId": "829243fd-1376-44ec-a68a-e49842f13a45",
        "colab": {
          "base_uri": "https://localhost:8080/"
        }
      },
      "execution_count": 35,
      "outputs": [
        {
          "output_type": "stream",
          "name": "stderr",
          "text": [
            "<ipython-input-35-f0239f77adc4>:2: DeprecationWarning: DataFrameGroupBy.apply operated on the grouping columns. This behavior is deprecated, and in a future version of pandas the grouping columns will be excluded from the operation. Either pass `include_groups=False` to exclude the groupings or explicitly select the grouping columns after groupby to silence this warning.\n",
            "  data = data.groupby('countrycode').apply(lambda x:x.assign(\n"
          ]
        }
      ]
    },
    {
      "cell_type": "code",
      "source": [
        "print(data)"
      ],
      "metadata": {
        "colab": {
          "base_uri": "https://localhost:8080/"
        },
        "id": "uJNx-0Jfx0Im",
        "outputId": "344ac9de-eef6-4407-dc56-30a786495dba"
      },
      "execution_count": 34,
      "outputs": [
        {
          "output_type": "stream",
          "name": "stdout",
          "text": [
            "   countrycode    country  year         rgdpna          rkna       emp  \\\n",
            "0          AUS  Australia  1960  174210.734375  5.488126e+05  4.014894   \n",
            "1          AUS  Australia  1961  176586.343750  5.626911e+05  4.026486   \n",
            "2          AUS  Australia  1962  187672.468750  5.850144e+05  4.123091   \n",
            "3          AUS  Australia  1963  200342.343750  6.088022e+05  4.240949   \n",
            "4          AUS  Australia  1964  213012.218750  6.400842e+05  4.393102   \n",
            "..         ...        ...   ...            ...           ...       ...   \n",
            "77         AUT    Austria  1996  258023.437500  1.126111e+06  3.575497   \n",
            "78         AUT    Austria  1997  263712.906250  1.159388e+06  3.604259   \n",
            "79         AUT    Austria  1998  273101.000000  1.193773e+06  3.640408   \n",
            "80         AUT    Austria  1999  282905.281250  1.227244e+06  3.693053   \n",
            "81         AUT    Austria  2000  292434.687500  1.263912e+06  3.727499   \n",
            "\n",
            "            avh     labsh     alpha            L          y           k  \\\n",
            "0   2104.390218  0.687863  0.312137  8448.903680  20.619330   64.956660   \n",
            "1   2098.294456  0.687863  0.312137  8448.754082  20.900874   66.600478   \n",
            "2   2092.216350  0.687863  0.312137  8626.398867  21.755598   67.816755   \n",
            "3   2086.155852  0.687863  0.312137  8847.280893  22.644510   68.812357   \n",
            "4   2080.112908  0.687863  0.312137  9138.147536  23.310219   70.045289   \n",
            "..          ...       ...       ...          ...        ...         ...   \n",
            "77  1816.294008  0.625341  0.374659  6494.153616  39.731650  173.403832   \n",
            "78  1825.012539  0.614688  0.385312  6577.817458  40.091247  176.257210   \n",
            "79  1803.304261  0.611644  0.388356  6564.762469  41.601048  181.845612   \n",
            "80  1807.014423  0.611061  0.388939  6673.399617  42.392978  183.900908   \n",
            "81  1807.363335  0.600677  0.399323  6736.945901  43.407605  187.609084   \n",
            "\n",
            "     y_shifted   k_shifted  \n",
            "0   100.000000  100.000000  \n",
            "1   101.365436  102.530639  \n",
            "2   105.510694  104.403082  \n",
            "3   109.821756  105.935799  \n",
            "4   113.050321  107.833884  \n",
            "..         ...         ...  \n",
            "77  353.390609  497.148837  \n",
            "78  356.589026  505.329470  \n",
            "79  370.017853  521.351422  \n",
            "80  377.061619  527.243956  \n",
            "81  386.086158  537.875297  \n",
            "\n",
            "[82 rows x 14 columns]\n"
          ]
        }
      ]
    },
    {
      "cell_type": "code",
      "source": [
        "import pandas as pd\n",
        "import numpy as np\n",
        "\n",
        "pwt90 = pd.read_stata('https://www.rug.nl/ggdc/docs/pwt90.dta')\n",
        "\n",
        "oecd_countries = [\n",
        "    'United Kingdom', 'United States',\n",
        "]\n",
        "\n",
        "#リストに該当する国の、1970~2010の間のデータを抽出\n",
        "data = pwt90[\n",
        "    pwt90['country'].isin(oecd_countries) &\n",
        "    pwt90['year'].between(1970, 2010)\n",
        "]\n",
        "\n",
        "relevant_cols = ['countrycode', 'country', 'year', 'rgdpna', 'rkna', 'pop', 'emp', 'avh', 'labsh', 'rtfpna']\n",
        "data = data[relevant_cols].dropna()\n",
        "\n",
        "# Calculate additional variables\n",
        "data['alpha'] = 1 - data['labsh']\n",
        "data['y_n'] = data['rgdpna'] / data['emp']  # Y/N\n",
        "data['hours'] = data['emp'] * data['avh']  # L\n",
        "data['tfp_term'] = data['rtfpna'] ** (1 / (1 - data['alpha']))  # A^(1/(1-alpha))\n",
        "data['cap_term'] = (data['rkna'] / data['rgdpna']) ** (data['alpha'] / (1 - data['alpha']))  # (K/Y)^(alpha/(1-alpha))\n",
        "data['lab_term'] = data['hours'] / data['pop']  # L/N\n",
        "data = data.sort_values('year').groupby('countrycode').apply(lambda x: x.assign(\n",
        "    alpha=1 - x['labsh'],\n",
        "    y_n_shifted=100 * x['y_n'] / x['y_n'].iloc[0],\n",
        "    tfp_term_shifted=100 * x['tfp_term'] / x['tfp_term'].iloc[0],\n",
        "    cap_term_shifted=100 * x['cap_term'] / x['cap_term'].iloc[0],\n",
        "    lab_term_shifted=100 * x['lab_term'] / x['lab_term'].iloc[0]\n",
        ")).reset_index(drop=True).dropna()\n",
        "\n",
        "\n",
        "def calculate_growth_rates(country_data):\n",
        "\n",
        "    start_year_actual = country_data['year'].min()\n",
        "    end_year_actual = country_data['year'].max()\n",
        "\n",
        "    start_data = country_data[country_data['year'] == start_year_actual].iloc[0]\n",
        "    end_data = country_data[country_data['year'] == end_year_actual].iloc[0]\n",
        "\n",
        "    years = end_data['year'] - start_data['year']\n",
        "\n",
        "    g_y = ((end_data['y_n'] / start_data['y_n']) ** (1/years) - 1) * 100\n",
        "\n",
        "    g_k = ((end_data['cap_term'] / start_data['cap_term']) ** (1/years) - 1) * 100\n",
        "\n",
        "    g_a = ((end_data['tfp_term'] / start_data['tfp_term']) ** (1/years) - 1) * 100\n",
        "\n",
        "    alpha_avg = (start_data['alpha'] + end_data['alpha']) / 2.0\n",
        "    capital_deepening_contrib = alpha_avg * g_k\n",
        "    tfp_growth_calculated = g_a\n",
        "\n",
        "    tfp_share = (tfp_growth_calculated / g_y)\n",
        "    cap_share = (capital_deepening_contrib / g_y)\n",
        "\n",
        "    return {\n",
        "        'Country': start_data['country'],\n",
        "        'Growth Rate': round(g_y, 2),\n",
        "        'TFP Growth': round(tfp_growth_calculated, 2),\n",
        "        'Capital Deepening': round(capital_deepening_contrib, 2),\n",
        "        'TFP Share': round(tfp_share, 2),\n",
        "        'Capital Share': round(cap_share, 2)\n",
        "    }\n",
        "\n",
        "\n",
        "results_list = data.groupby('country').apply(calculate_growth_rates).dropna().tolist()\n",
        "results_df = pd.DataFrame(results_list)\n",
        "\n",
        "avg_row_data = {\n",
        "    'Country': 'Average',\n",
        "    'Growth Rate': round(results_df['Growth Rate'].mean(), 2),\n",
        "    'TFP Growth': round(results_df['TFP Growth'].mean(), 2),\n",
        "    'Capital Deepening': round(results_df['Capital Deepening'].mean(), 2),\n",
        "    'TFP Share': round(results_df['TFP Share'].mean(), 2),\n",
        "    'Capital Share': round(results_df['Capital Share'].mean(), 2)\n",
        "}\n",
        "results_df = pd.concat([results_df, pd.DataFrame([avg_row_data])], ignore_index=True)\n",
        "\n",
        "print(\"\\nGrowth Accounting in OECD Countries: 1970-2010 period\")\n",
        "print(\"=\"*85)\n",
        "print(results_df.to_string(index=False))\n",
        "\n"
      ],
      "metadata": {
        "colab": {
          "base_uri": "https://localhost:8080/"
        },
        "id": "1o4KRPNiciFR",
        "outputId": "e39ce1a9-94bb-45fa-b487-33f7c4e1607b"
      },
      "execution_count": null,
      "outputs": [
        {
          "output_type": "stream",
          "name": "stdout",
          "text": [
            "\n",
            "Growth Accounting in OECD Countries: 1970-2010 period\n",
            "=====================================================================================\n",
            "       Country  Growth Rate  TFP Growth  Capital Deepening  TFP Share  Capital Share\n",
            "United Kingdom         1.79        1.67              -0.11       0.93          -0.06\n",
            " United States         1.59        1.29               0.16       0.81           0.10\n",
            "       Average         1.69        1.48               0.02       0.87           0.02\n"
          ]
        },
        {
          "output_type": "stream",
          "name": "stderr",
          "text": [
            "<ipython-input-1-974326e13e4f>:25: DeprecationWarning: DataFrameGroupBy.apply operated on the grouping columns. This behavior is deprecated, and in a future version of pandas the grouping columns will be excluded from the operation. Either pass `include_groups=False` to exclude the groupings or explicitly select the grouping columns after groupby to silence this warning.\n",
            "  data = data.sort_values('year').groupby('countrycode').apply(lambda x: x.assign(\n",
            "<ipython-input-1-974326e13e4f>:67: DeprecationWarning: DataFrameGroupBy.apply operated on the grouping columns. This behavior is deprecated, and in a future version of pandas the grouping columns will be excluded from the operation. Either pass `include_groups=False` to exclude the groupings or explicitly select the grouping columns after groupby to silence this warning.\n",
            "  results_list = data.groupby('country').apply(calculate_growth_rates).dropna().tolist()\n"
          ]
        }
      ]
    }
  ]
}