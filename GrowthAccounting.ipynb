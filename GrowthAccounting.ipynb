{
  "nbformat": 4,
  "nbformat_minor": 0,
  "metadata": {
    "colab": {
      "provenance": [],
      "authorship_tag": "ABX9TyMw3N5I0haP3d7FgniGaPcu",
      "include_colab_link": true
    },
    "kernelspec": {
      "name": "python3",
      "display_name": "Python 3"
    },
    "language_info": {
      "name": "python"
    }
  },
  "cells": [
    {
      "cell_type": "markdown",
      "metadata": {
        "id": "view-in-github",
        "colab_type": "text"
      },
      "source": [
        "<a href=\"https://colab.research.google.com/github/Katsushi-Nakanishi/quant-macro/blob/main/GrowthAccounting.ipynb\" target=\"_parent\"><img src=\"https://colab.research.google.com/assets/colab-badge.svg\" alt=\"Open In Colab\"/></a>"
      ]
    },
    {
      "cell_type": "code",
      "source": [
        "import pandas as pd\n",
        "import numpy as np\n",
        "\n",
        "pwt90 = pd.read_stata('https://www.rug.nl/ggdc/docs/pwt90.dta')"
      ],
      "metadata": {
        "id": "2CSIdc-inP3N"
      },
      "execution_count": 6,
      "outputs": []
    },
    {
      "cell_type": "code",
      "source": [
        "print(pwt90.columns)"
      ],
      "metadata": {
        "colab": {
          "base_uri": "https://localhost:8080/"
        },
        "id": "C_-4vlj-oAgu",
        "outputId": "10c68ac8-ad25-4def-e2ee-2b9265080472"
      },
      "execution_count": 7,
      "outputs": [
        {
          "output_type": "stream",
          "name": "stdout",
          "text": [
            "Index(['countrycode', 'country', 'currency_unit', 'year', 'rgdpe', 'rgdpo',\n",
            "       'pop', 'emp', 'avh', 'hc', 'ccon', 'cda', 'cgdpe', 'cgdpo', 'ck',\n",
            "       'ctfp', 'cwtfp', 'rgdpna', 'rconna', 'rdana', 'rkna', 'rtfpna',\n",
            "       'rwtfpna', 'labsh', 'delta', 'xr', 'pl_con', 'pl_da', 'pl_gdpo',\n",
            "       'i_cig', 'i_xm', 'i_xr', 'i_outlier', 'cor_exp', 'statcap', 'csh_c',\n",
            "       'csh_i', 'csh_g', 'csh_x', 'csh_m', 'csh_r', 'pl_c', 'pl_i', 'pl_g',\n",
            "       'pl_x', 'pl_m', 'pl_k'],\n",
            "      dtype='object')\n"
          ]
        }
      ]
    },
    {
      "cell_type": "code",
      "source": [
        "relevant_cols = ['countrycode', 'country', 'year', 'rgdpna', 'rkna', 'pop', 'emp', 'avh', 'labsh', 'rtfpna']\n",
        "data = data[relevant_cols].dropna()"
      ],
      "metadata": {
        "id": "9y9-A9_AxjOX"
      },
      "execution_count": null,
      "outputs": []
    },
    {
      "cell_type": "code",
      "source": [
        "#対象の国をリスト化\n",
        "target_countries = ['Australia', 'Austria']\n",
        "\n",
        "#リストに該当する国の、1960~2000期間のデータを抽出\n",
        "data = pwt90[\n",
        "    pwt90['country'].isin(target_countries) &\n",
        "    pwt90['year'].between(1960, 2000)\n",
        "]\n",
        "\n",
        "#必要な変数だけをリスト化し、データを絞る\n",
        "relevant_cols = ['countrycode', 'country', 'year', 'rgdpna', 'rkna', 'pop', 'emp', 'avh', 'labsh', 'rtfpna']\n",
        "data = data[relevant_cols].dropna()"
      ],
      "metadata": {
        "id": "ji7-Rje6v2Zh"
      },
      "execution_count": 14,
      "outputs": []
    },
    {
      "cell_type": "code",
      "source": [
        "print(data)"
      ],
      "metadata": {
        "colab": {
          "base_uri": "https://localhost:8080/"
        },
        "id": "uJNx-0Jfx0Im",
        "outputId": "d9bbb0c2-e3ae-4f47-c551-1f825b47fbbf"
      },
      "execution_count": 15,
      "outputs": [
        {
          "output_type": "stream",
          "name": "stdout",
          "text": [
            "    countrycode    country  year         rgdpna          rkna        pop  \\\n",
            "530         AUS  Australia  1960  174210.734375  5.488126e+05  10.561457   \n",
            "531         AUS  Australia  1961  176586.343750  5.626911e+05  10.803588   \n",
            "532         AUS  Australia  1962  187672.468750  5.850144e+05  11.003531   \n",
            "533         AUS  Australia  1963  200342.343750  6.088022e+05  11.214037   \n",
            "534         AUS  Australia  1964  213012.218750  6.400842e+05  11.435046   \n",
            "..          ...        ...   ...            ...           ...        ...   \n",
            "631         AUT    Austria  1996  258023.437500  1.126111e+06   8.000453   \n",
            "632         AUT    Austria  1997  263712.906250  1.159388e+06   8.015256   \n",
            "633         AUT    Austria  1998  273101.000000  1.193773e+06   8.023166   \n",
            "634         AUT    Austria  1999  282905.281250  1.227244e+06   8.032953   \n",
            "635         AUT    Austria  2000  292434.687500  1.263912e+06   8.050884   \n",
            "\n",
            "          emp          avh     labsh    rtfpna  \n",
            "530  4.014894  2104.390218  0.687863  0.665461  \n",
            "531  4.026486  2098.294456  0.687863  0.665743  \n",
            "532  4.123091  2092.216350  0.687863  0.685397  \n",
            "533  4.240949  2086.155852  0.687863  0.706384  \n",
            "534  4.393102  2080.112908  0.687863  0.719281  \n",
            "..        ...          ...       ...       ...  \n",
            "631  3.575497  1816.294008  0.625341  0.940505  \n",
            "632  3.604259  1825.012539  0.614688  0.940233  \n",
            "633  3.640408  1803.304261  0.611644  0.960984  \n",
            "634  3.693053  1807.014423  0.611061  0.972036  \n",
            "635  3.727499  1807.363335  0.600677  0.984516  \n",
            "\n",
            "[82 rows x 10 columns]\n"
          ]
        }
      ]
    },
    {
      "cell_type": "code",
      "source": [
        "import pandas as pd\n",
        "import numpy as np\n",
        "\n",
        "pwt90 = pd.read_stata('https://www.rug.nl/ggdc/docs/pwt90.dta')\n",
        "\n",
        "oecd_countries = [\n",
        "    'United Kingdom', 'United States',\n",
        "]\n",
        "\n",
        "#リストに該当する国の、1970~2010の間のデータを抽出\n",
        "data = pwt90[\n",
        "    pwt90['country'].isin(oecd_countries) &\n",
        "    pwt90['year'].between(1970, 2010)\n",
        "]\n",
        "\n",
        "relevant_cols = ['countrycode', 'country', 'year', 'rgdpna', 'rkna', 'pop', 'emp', 'avh', 'labsh', 'rtfpna']\n",
        "data = data[relevant_cols].dropna()\n",
        "\n",
        "# Calculate additional variables\n",
        "data['alpha'] = 1 - data['labsh']\n",
        "data['y_n'] = data['rgdpna'] / data['emp']  # Y/N\n",
        "data['hours'] = data['emp'] * data['avh']  # L\n",
        "data['tfp_term'] = data['rtfpna'] ** (1 / (1 - data['alpha']))  # A^(1/(1-alpha))\n",
        "data['cap_term'] = (data['rkna'] / data['rgdpna']) ** (data['alpha'] / (1 - data['alpha']))  # (K/Y)^(alpha/(1-alpha))\n",
        "data['lab_term'] = data['hours'] / data['pop']  # L/N\n",
        "data = data.sort_values('year').groupby('countrycode').apply(lambda x: x.assign(\n",
        "    alpha=1 - x['labsh'],\n",
        "    y_n_shifted=100 * x['y_n'] / x['y_n'].iloc[0],\n",
        "    tfp_term_shifted=100 * x['tfp_term'] / x['tfp_term'].iloc[0],\n",
        "    cap_term_shifted=100 * x['cap_term'] / x['cap_term'].iloc[0],\n",
        "    lab_term_shifted=100 * x['lab_term'] / x['lab_term'].iloc[0]\n",
        ")).reset_index(drop=True).dropna()\n",
        "\n",
        "\n",
        "def calculate_growth_rates(country_data):\n",
        "\n",
        "    start_year_actual = country_data['year'].min()\n",
        "    end_year_actual = country_data['year'].max()\n",
        "\n",
        "    start_data = country_data[country_data['year'] == start_year_actual].iloc[0]\n",
        "    end_data = country_data[country_data['year'] == end_year_actual].iloc[0]\n",
        "\n",
        "    years = end_data['year'] - start_data['year']\n",
        "\n",
        "    g_y = ((end_data['y_n'] / start_data['y_n']) ** (1/years) - 1) * 100\n",
        "\n",
        "    g_k = ((end_data['cap_term'] / start_data['cap_term']) ** (1/years) - 1) * 100\n",
        "\n",
        "    g_a = ((end_data['tfp_term'] / start_data['tfp_term']) ** (1/years) - 1) * 100\n",
        "\n",
        "    alpha_avg = (start_data['alpha'] + end_data['alpha']) / 2.0\n",
        "    capital_deepening_contrib = alpha_avg * g_k\n",
        "    tfp_growth_calculated = g_a\n",
        "\n",
        "    tfp_share = (tfp_growth_calculated / g_y)\n",
        "    cap_share = (capital_deepening_contrib / g_y)\n",
        "\n",
        "    return {\n",
        "        'Country': start_data['country'],\n",
        "        'Growth Rate': round(g_y, 2),\n",
        "        'TFP Growth': round(tfp_growth_calculated, 2),\n",
        "        'Capital Deepening': round(capital_deepening_contrib, 2),\n",
        "        'TFP Share': round(tfp_share, 2),\n",
        "        'Capital Share': round(cap_share, 2)\n",
        "    }\n",
        "\n",
        "\n",
        "results_list = data.groupby('country').apply(calculate_growth_rates).dropna().tolist()\n",
        "results_df = pd.DataFrame(results_list)\n",
        "\n",
        "avg_row_data = {\n",
        "    'Country': 'Average',\n",
        "    'Growth Rate': round(results_df['Growth Rate'].mean(), 2),\n",
        "    'TFP Growth': round(results_df['TFP Growth'].mean(), 2),\n",
        "    'Capital Deepening': round(results_df['Capital Deepening'].mean(), 2),\n",
        "    'TFP Share': round(results_df['TFP Share'].mean(), 2),\n",
        "    'Capital Share': round(results_df['Capital Share'].mean(), 2)\n",
        "}\n",
        "results_df = pd.concat([results_df, pd.DataFrame([avg_row_data])], ignore_index=True)\n",
        "\n",
        "print(\"\\nGrowth Accounting in OECD Countries: 1970-2010 period\")\n",
        "print(\"=\"*85)\n",
        "print(results_df.to_string(index=False))\n",
        "\n"
      ],
      "metadata": {
        "colab": {
          "base_uri": "https://localhost:8080/"
        },
        "id": "1o4KRPNiciFR",
        "outputId": "e39ce1a9-94bb-45fa-b487-33f7c4e1607b"
      },
      "execution_count": 1,
      "outputs": [
        {
          "output_type": "stream",
          "name": "stdout",
          "text": [
            "\n",
            "Growth Accounting in OECD Countries: 1970-2010 period\n",
            "=====================================================================================\n",
            "       Country  Growth Rate  TFP Growth  Capital Deepening  TFP Share  Capital Share\n",
            "United Kingdom         1.79        1.67              -0.11       0.93          -0.06\n",
            " United States         1.59        1.29               0.16       0.81           0.10\n",
            "       Average         1.69        1.48               0.02       0.87           0.02\n"
          ]
        },
        {
          "output_type": "stream",
          "name": "stderr",
          "text": [
            "<ipython-input-1-974326e13e4f>:25: DeprecationWarning: DataFrameGroupBy.apply operated on the grouping columns. This behavior is deprecated, and in a future version of pandas the grouping columns will be excluded from the operation. Either pass `include_groups=False` to exclude the groupings or explicitly select the grouping columns after groupby to silence this warning.\n",
            "  data = data.sort_values('year').groupby('countrycode').apply(lambda x: x.assign(\n",
            "<ipython-input-1-974326e13e4f>:67: DeprecationWarning: DataFrameGroupBy.apply operated on the grouping columns. This behavior is deprecated, and in a future version of pandas the grouping columns will be excluded from the operation. Either pass `include_groups=False` to exclude the groupings or explicitly select the grouping columns after groupby to silence this warning.\n",
            "  results_list = data.groupby('country').apply(calculate_growth_rates).dropna().tolist()\n"
          ]
        }
      ]
    }
  ]
}